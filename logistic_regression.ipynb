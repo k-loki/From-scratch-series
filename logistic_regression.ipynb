{
 "cells": [
  {
   "cell_type": "markdown",
   "id": "94104ea9-a7c6-401a-955c-3b9f6862567b",
   "metadata": {},
   "source": [
    "``Naive Logistic Regression``"
   ]
  },
  {
   "cell_type": "code",
   "execution_count": 1,
   "id": "f74399eb-d3dd-41ab-a131-d68fa7bd1d29",
   "metadata": {},
   "outputs": [],
   "source": [
    "import numpy as np\n",
    "import matplotlib.pyplot as plt\n",
    "from tqdm.notebook import tqdm\n",
    "from sklearn.datasets import make_classification\n",
    "from sklearn.metrics import accuracy_score\n",
    "from sklearn.model_selection import train_test_split\n",
    "\n",
    "RAND = 9876\n",
    "np.random.seed(RAND) "
   ]
  },
  {
   "cell_type": "code",
   "execution_count": 2,
   "id": "48a285cc-c92b-4946-a27e-bdfeed9cde00",
   "metadata": {},
   "outputs": [
    {
     "data": {
      "text/plain": [
       "((300, 10), (300,))"
      ]
     },
     "execution_count": 2,
     "metadata": {},
     "output_type": "execute_result"
    }
   ],
   "source": [
    "X, y = make_classification(n_samples=300, n_features=10)\n",
    "X.shape, y.shape"
   ]
  },
  {
   "cell_type": "code",
   "execution_count": 3,
   "id": "6d8170b8-f5a9-4b65-9616-6e7f30cf26a6",
   "metadata": {},
   "outputs": [
    {
     "data": {
      "text/plain": [
       "151"
      ]
     },
     "execution_count": 3,
     "metadata": {},
     "output_type": "execute_result"
    }
   ],
   "source": [
    "y.sum()"
   ]
  },
  {
   "cell_type": "code",
   "execution_count": 4,
   "id": "7c5ee495-432b-4a71-be02-0bc295351db1",
   "metadata": {},
   "outputs": [
    {
     "data": {
      "text/plain": [
       "((255, 10), (45, 10))"
      ]
     },
     "execution_count": 4,
     "metadata": {},
     "output_type": "execute_result"
    }
   ],
   "source": [
    "X_train, X_test, y_train, y_test = train_test_split(X, y, test_size=0.15, random_state=RAND, stratify=y)\n",
    "X_train.shape, X_test.shape"
   ]
  },
  {
   "cell_type": "code",
   "execution_count": 5,
   "id": "882a059e-83ed-45ba-9031-8f4dbb365849",
   "metadata": {},
   "outputs": [],
   "source": [
    "class My_LogisticRegression:\n",
    "    \n",
    "    def __init__(self, lr=0.01, n_iters=1000):\n",
    "        self.lr = lr\n",
    "        self.n_iters = n_iters\n",
    "        self.wts = None\n",
    "        self.bias = None\n",
    "        self.is_fit = False\n",
    "        \n",
    "        \n",
    "    def fit(self, X, y):\n",
    "        n_samples, n_fts  = X.shape\n",
    "        \n",
    "        # random wt and bias initialization\n",
    "        self.wts = np.zeros(n_fts)\n",
    "        self.bias = np.zeros(1)\n",
    "        \n",
    "        # iterate until convergence\n",
    "        for _ in range(self.n_iters):\n",
    "            reg_val = np.dot(X, self.wts) + self.bias\n",
    "            y_pred = self._sigmoid(reg_val)\n",
    "            \n",
    "            # find gradients w.r.t wts and bias\n",
    "            dw = (1/n_samples)*np.dot((y_pred-y), X)\n",
    "            db = (1/n_samples)*np.sum(y_pred-y)\n",
    "            \n",
    "            # upadate wts and bias\n",
    "            self.wts -= dw*self.lr\n",
    "            self.bias -= db*self.lr\n",
    "        \n",
    "        self.is_fit = True\n",
    "    \n",
    "        \n",
    "    def predcit(self, X):\n",
    "        if self.is_fit:\n",
    "            preds = self._sigmoid(np.dot(X, self.wts) + self.bias)\n",
    "            mask = (preds > 0.5)\n",
    "            preds = np.array(mask, dtype='int64')\n",
    "            return preds\n",
    "        else:\n",
    "            raise Exception('first train the algorithm')\n",
    "            \n",
    "            \n",
    "    def _sigmoid(self, x):\n",
    "        return 1/(1 + np.exp(-x))\n",
    "        "
   ]
  },
  {
   "cell_type": "code",
   "execution_count": 6,
   "id": "9d60980b-7e73-4110-a3e0-028512b5ed59",
   "metadata": {},
   "outputs": [
    {
     "data": {
      "text/plain": [
       "0.9111111111111111"
      ]
     },
     "execution_count": 6,
     "metadata": {},
     "output_type": "execute_result"
    }
   ],
   "source": [
    "log_reg = My_LogisticRegression()\n",
    "log_reg.fit(X_train, y_train)\n",
    "preds = log_reg.predcit(X_test)\n",
    "accuracy_score(y_test, preds)"
   ]
  },
  {
   "cell_type": "code",
   "execution_count": 7,
   "id": "8ec1933e-9eab-4bda-88ce-b5d12b95c109",
   "metadata": {},
   "outputs": [
    {
     "name": "stdout",
     "output_type": "stream",
     "text": [
      "0.8888888888888888\n"
     ]
    }
   ],
   "source": [
    "from sklearn.linear_model import LogisticRegression as LogReg\n",
    "sk_log_reg = LogReg()\n",
    "sk_log_reg.fit(X_train, y_train)\n",
    "sk_preds = sk_log_reg.predict(X_test)\n",
    "print(accuracy_score(y_test, sk_preds))"
   ]
  },
  {
   "cell_type": "code",
   "execution_count": 8,
   "id": "76856f5d-a4a7-49f4-a587-2aa94984c094",
   "metadata": {},
   "outputs": [
    {
     "data": {
      "text/plain": [
       "array([[-0.00259108, -0.17322064, -0.90914312,  0.09057515, -0.30125718,\n",
       "         1.53251295, -0.04055468,  0.2368014 , -0.31097296,  0.40054413]])"
      ]
     },
     "execution_count": 8,
     "metadata": {},
     "output_type": "execute_result"
    }
   ],
   "source": [
    "sk_log_reg.coef_"
   ]
  },
  {
   "cell_type": "code",
   "execution_count": 9,
   "id": "d7e7be35-66e9-40a9-85f6-8b47dcd300a9",
   "metadata": {},
   "outputs": [
    {
     "data": {
      "text/plain": [
       "array([-0.00269666, -0.12355265, -0.7250062 ,  0.0399096 , -0.20777501,\n",
       "        1.19536054, -0.01096003,  0.15346569, -0.25217163,  0.22824192])"
      ]
     },
     "execution_count": 9,
     "metadata": {},
     "output_type": "execute_result"
    }
   ],
   "source": [
    "log_reg.wts"
   ]
  },
  {
   "cell_type": "code",
   "execution_count": null,
   "id": "b779f052-8583-4225-ae9f-9116261de2d3",
   "metadata": {},
   "outputs": [],
   "source": [
    "# mine is better??"
   ]
  },
  {
   "cell_type": "code",
   "execution_count": null,
   "id": "3fe99839-a315-4379-9c98-cfce45db4b6e",
   "metadata": {},
   "outputs": [],
   "source": []
  }
 ],
 "metadata": {
  "kernelspec": {
   "display_name": "Python 3 (ipykernel)",
   "language": "python",
   "name": "python3"
  },
  "language_info": {
   "codemirror_mode": {
    "name": "ipython",
    "version": 3
   },
   "file_extension": ".py",
   "mimetype": "text/x-python",
   "name": "python",
   "nbconvert_exporter": "python",
   "pygments_lexer": "ipython3",
   "version": "3.9.5"
  },
  "toc-autonumbering": true,
  "toc-showcode": false,
  "toc-showmarkdowntxt": true,
  "toc-showtags": false
 },
 "nbformat": 4,
 "nbformat_minor": 5
}
