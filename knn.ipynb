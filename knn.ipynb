{
 "cells": [
  {
   "cell_type": "markdown",
   "id": "d9f5445e-d49a-4b5d-ac5b-38bc08ad51a5",
   "metadata": {
    "tags": []
   },
   "source": [
    "# **KNN algorithm**"
   ]
  },
  {
   "cell_type": "markdown",
   "id": "0259ffba-7a97-476e-b306-96dc4e59fa4c",
   "metadata": {
    "jp-MarkdownHeadingCollapsed": true,
    "tags": []
   },
   "source": [
    "Points to Note:\n",
    "\n",
    "- supervised\n",
    "- lazy learner (in training phase,store the indexed data in memory and when inferencing use those indices to classify/regress the data point) \n",
    "- non-parametric (makes no assumptions about the data)\n",
    "- simple and robust\n",
    "\n",
    "Algorithm:\n",
    "\n",
    "- Just store the train dataset in training phase\n",
    "- During inference find out distance between given point and every data point in train set\n",
    "- sort them and pick top k datapoints (k-nearest neighbours)\n",
    "- Find mode of the negighbours\n",
    "- The mode of the k n n is the class of the data point being considered"
   ]
  },
  {
   "cell_type": "code",
   "execution_count": 10,
   "id": "d50a81ed-e3f8-4ada-979d-77e4d015df1a",
   "metadata": {},
   "outputs": [],
   "source": [
    "import numpy as np\n",
    "import matplotlib.pyplot as plt\n",
    "import time\n",
    "from tqdm.notebook import tqdm\n",
    "from sklearn.metrics import accuracy_score\n",
    "from scipy import stats"
   ]
  },
  {
   "cell_type": "code",
   "execution_count": 2,
   "id": "1f12f8bf-9c2e-443a-ac01-3cf6e078bf04",
   "metadata": {},
   "outputs": [
    {
     "name": "stdout",
     "output_type": "stream",
     "text": [
      "Train data sahpe:  (100, 2)\n",
      "Target shape:  (100,)\n"
     ]
    }
   ],
   "source": [
    "# create dummy data in 2 dims\n",
    "\n",
    "# 100 samples with 3 features\n",
    "train_data = np.random.randn(100,2)\n",
    "print('Train data sahpe: ', train_data.shape) \n",
    "\n",
    "# random targets for classfication\n",
    "target = np.random.randint(0,2, (100))\n",
    "print('Target shape: ', target.shape)"
   ]
  },
  {
   "cell_type": "code",
   "execution_count": 3,
   "id": "9fbf4dda-1e11-49fa-a7c6-01edf78f421e",
   "metadata": {},
   "outputs": [
    {
     "data": {
      "text/plain": [
       "((20, 2), (20,))"
      ]
     },
     "execution_count": 3,
     "metadata": {},
     "output_type": "execute_result"
    }
   ],
   "source": [
    "test_data = np.random.rand(20,2)\n",
    "test_targets = np.random.randint(0,2,(20,))\n",
    "\n",
    "test_data.shape, test_targets.shape"
   ]
  },
  {
   "cell_type": "code",
   "execution_count": 4,
   "id": "997c507d-da13-42f7-8921-4ac272d5f28f",
   "metadata": {},
   "outputs": [],
   "source": [
    "x1 = train_data[:,0]\n",
    "x2 = train_data[:,1]"
   ]
  },
  {
   "cell_type": "code",
   "execution_count": 5,
   "id": "10011827-baea-4d08-b503-be1ccbcfec4e",
   "metadata": {},
   "outputs": [
    {
     "data": {
      "text/plain": [
       "Text(0, 0.5, 'x2')"
      ]
     },
     "execution_count": 5,
     "metadata": {},
     "output_type": "execute_result"
    },
    {
     "data": {
      "image/png": "[encoded data removed]",
      "text/plain": [
       "<Figure size 432x288 with 1 Axes>"
      ]
     },
     "metadata": {
      "needs_background": "light"
     },
     "output_type": "display_data"
    }
   ],
   "source": [
    "# let's plot to see\n",
    "plt.style.use('seaborn')\n",
    "plt.scatter(x1, x2, c=target, cmap='winter')\n",
    "plt.xlabel('x1')\n",
    "plt.ylabel('x2')"
   ]
  },
  {
   "cell_type": "markdown",
   "id": "2e74bda7-f0f1-44ba-a71d-4b1e4e64415d",
   "metadata": {},
   "source": [
    "**A naive approach**"
   ]
  },
  {
   "cell_type": "code",
   "execution_count": 6,
   "id": "1bdbdec2-36e7-428c-ab94-55e7ad674503",
   "metadata": {},
   "outputs": [],
   "source": [
    "# O(D*N^2) implementation\n",
    "class KNN:\n",
    "    \n",
    "    def __init__(self,k, reg=False):\n",
    "        self.k = k\n",
    "        self.n_samples = None\n",
    "        self.target = target\n",
    "        self.is_fitted = False\n",
    "        self.reg = reg\n",
    "    \n",
    "    # fit method like sklearn to train \n",
    "    def fit(self,x,y):\n",
    "        self.n_samples = x.shape[0]\n",
    "        self.train_set = x\n",
    "        self.target = y\n",
    "        self.is_fitted = True\n",
    "    \n",
    "    \n",
    "    def predict(self, x):\n",
    "        if self.is_fitted == True:\n",
    "            \n",
    "            start = time.time()\n",
    "\n",
    "            n_2pred = x.shape[0]\n",
    "            dist_matrix = np.ones(shape=(self.n_samples, n_2pred))\n",
    "            preds = np.zeros(n_2pred)\n",
    "\n",
    "            #   takes more space, but to store indexes of sorted distances      \n",
    "            sort_matrix = np.ones(shape=(self.n_samples, n_2pred))\n",
    "\n",
    "            # calculate distance from each sample to training sample \n",
    "            for test_sample in range(n_2pred):\n",
    "                for sample in range(self.n_samples):\n",
    "                    dist_matrix[sample, test_sample] = KNN.euclid_dist(self.train_set[sample], x[test_sample])\n",
    "\n",
    "                    sort_matrix[:,test_sample] = np.argsort(dist_matrix[:, test_sample])\n",
    "            \n",
    "            # make final predictions based on distances calculated..\n",
    "            for test_sample in range(n_2pred):\n",
    "                k_indices = sort_matrix[:self.k, test_sample]\n",
    "                k_values = [self.target[int(idx)] for idx in k_indices]\n",
    "                k_values = np.array(k_values)\n",
    "                if self.reg:\n",
    "                    pred = k_values.mean()\n",
    "                    preds[test_sample] = pred\n",
    "                else:\n",
    "                    pred = stats.mode(k_values)\n",
    "                    preds[test_sample] = pred[0][0]\n",
    "\n",
    "            print(\"Completed predicting in :\", time.time() - start)\n",
    "            return preds.ravel()\n",
    "        \n",
    "        else:\n",
    "        \n",
    "            raise  Exception(\"Lol.. U didn't train the algorithm, call fit method on train data first\")\n",
    "    \n",
    "    @staticmethod\n",
    "    def euclid_dist(vec1, vec2):\n",
    "        s = 0\n",
    "        for a,b in zip(vec1, vec2):\n",
    "            s += np.power(a-b, 2)\n",
    "        return np.sqrt(s)\n",
    "    "
   ]
  },
  {
   "cell_type": "code",
   "execution_count": 7,
   "id": "5c31e40c-bd8b-4008-801c-796c8f2f12b5",
   "metadata": {},
   "outputs": [],
   "source": [
    "knn_clf = KNN(5)\n",
    "knn_clf.fit(train_data, target)"
   ]
  },
  {
   "cell_type": "code",
   "execution_count": 8,
   "id": "1e178c56-086f-452c-8ae3-7f8556ce376b",
   "metadata": {},
   "outputs": [
    {
     "name": "stdout",
     "output_type": "stream",
     "text": [
      "Completed predicting in : 0.045427799224853516\n"
     ]
    },
    {
     "data": {
      "text/plain": [
       "array([0., 0., 0., 1., 0., 1., 1., 1., 1., 1., 1., 1., 1., 1., 0., 1., 0.,\n",
       "       1., 1., 1.])"
      ]
     },
     "execution_count": 8,
     "metadata": {},
     "output_type": "execute_result"
    }
   ],
   "source": [
    "preds = knn_clf.predict(test_data)\n",
    "preds"
   ]
  },
  {
   "cell_type": "code",
   "execution_count": 11,
   "id": "02f80214-12c3-44df-ba10-4ab7d43557df",
   "metadata": {},
   "outputs": [
    {
     "name": "stdout",
     "output_type": "stream",
     "text": [
      "0.55\n"
     ]
    }
   ],
   "source": [
    "# lets see how accurate these predictions are:\n",
    "print(accuracy_score(test_targets, preds))   # this could be becuase the random noisy data"
   ]
  },
  {
   "cell_type": "code",
   "execution_count": 12,
   "id": "c4c21413-cd4f-4757-a239-dcde77cfe454",
   "metadata": {},
   "outputs": [
    {
     "data": {
      "text/plain": [
       "((150, 4), (150,))"
      ]
     },
     "execution_count": 12,
     "metadata": {},
     "output_type": "execute_result"
    }
   ],
   "source": [
    "from sklearn.datasets import load_iris\n",
    "iris_x, iris_y = load_iris(return_X_y=True)\n",
    "iris_x.shape, iris_y.shape"
   ]
  },
  {
   "cell_type": "code",
   "execution_count": 13,
   "id": "59b0000b-5c65-4c0e-a6ca-808661f42d4b",
   "metadata": {},
   "outputs": [
    {
     "data": {
      "text/plain": [
       "((120, 4), (30, 4))"
      ]
     },
     "execution_count": 13,
     "metadata": {},
     "output_type": "execute_result"
    }
   ],
   "source": [
    "from sklearn.model_selection import train_test_split\n",
    "X_tr_i, X_te_i, y_tr_i, y_te_i = train_test_split(iris_x, iris_y, test_size=0.2, random_state=42)\n",
    "X_tr_i.shape, X_te_i.shape"
   ]
  },
  {
   "cell_type": "code",
   "execution_count": 14,
   "id": "e8ef6d7a-961b-4dbe-a3aa-07404a290562",
   "metadata": {},
   "outputs": [],
   "source": [
    "knn_clf.fit(X_tr_i, y_tr_i)"
   ]
  },
  {
   "cell_type": "code",
   "execution_count": 15,
   "id": "7fb6c40c-1834-4138-9f50-c0cf137710e5",
   "metadata": {},
   "outputs": [
    {
     "name": "stdout",
     "output_type": "stream",
     "text": [
      "Completed predicting in : 0.13013315200805664\n"
     ]
    },
    {
     "data": {
      "text/plain": [
       "1.0"
      ]
     },
     "execution_count": 15,
     "metadata": {},
     "output_type": "execute_result"
    }
   ],
   "source": [
    "iris_preds = knn_clf.predict(X_te_i)\n",
    "accuracy_score(y_te_i, iris_preds)"
   ]
  },
  {
   "cell_type": "code",
   "execution_count": 39,
   "id": "32a38885-269e-4ebd-9b39-cf2debbefec4",
   "metadata": {},
   "outputs": [
    {
     "name": "stdout",
     "output_type": "stream",
     "text": [
      "k_value:  10\n"
     ]
    },
    {
     "data": {
      "application/vnd.jupyter.widget-view+json": {
       "model_id": "391943b07fe74f9f80a3193487fc8f9e",
       "version_major": 2,
       "version_minor": 0
      },
      "text/plain": [
       "  0%|          | 0/30 [00:00<?, ?it/s]"
      ]
     },
     "metadata": {},
     "output_type": "display_data"
    },
    {
     "name": "stdout",
     "output_type": "stream",
     "text": [
      "Completed predicting in : 0.14424967765808105\n"
     ]
    },
    {
     "data": {
      "text/plain": [
       "1.0"
      ]
     },
     "execution_count": 39,
     "metadata": {},
     "output_type": "execute_result"
    }
   ],
   "source": [
    "# let's find the optimal k for our classsifier\n",
    "\n",
    "# one assumption data scientists use is optimal k can be around sqrt(train_size)\n",
    "k_sqrt = int(np.sqrt(120))\n",
    "print(\"k_value: \",k_sqrt)\n",
    "\n",
    "# train with k 10\n",
    "knn_clf = KNN(k_sqrt)\n",
    "knn_clf.fit(X_tr_i, y_tr_i)\n",
    "preds = knn_clf.predict(X_te_i)\n",
    "accuracy_score(y_te_i, preds)"
   ]
  },
  {
   "cell_type": "code",
   "execution_count": 40,
   "id": "dece153e-c032-4b62-91c6-1a48742e5f92",
   "metadata": {},
   "outputs": [
    {
     "data": {
      "application/vnd.jupyter.widget-view+json": {
       "model_id": "a43a895bb4d148198d670f6fc9de79ca",
       "version_major": 2,
       "version_minor": 0
      },
      "text/plain": [
       "  0%|          | 0/30 [00:00<?, ?it/s]"
      ]
     },
     "metadata": {},
     "output_type": "display_data"
    },
    {
     "name": "stdout",
     "output_type": "stream",
     "text": [
      "Completed predicting in : 0.12549686431884766\n"
     ]
    },
    {
     "data": {
      "application/vnd.jupyter.widget-view+json": {
       "model_id": "4a93f8f751584d66b514dd9030affe77",
       "version_major": 2,
       "version_minor": 0
      },
      "text/plain": [
       "  0%|          | 0/30 [00:00<?, ?it/s]"
      ]
     },
     "metadata": {},
     "output_type": "display_data"
    },
    {
     "name": "stdout",
     "output_type": "stream",
     "text": [
      "Completed predicting in : 0.11714863777160645\n"
     ]
    },
    {
     "data": {
      "application/vnd.jupyter.widget-view+json": {
       "model_id": "10cc81f5cab5465bbb85a82623679c42",
       "version_major": 2,
       "version_minor": 0
      },
      "text/plain": [
       "  0%|          | 0/30 [00:00<?, ?it/s]"
      ]
     },
     "metadata": {},
     "output_type": "display_data"
    },
    {
     "name": "stdout",
     "output_type": "stream",
     "text": [
      "Completed predicting in : 0.12592816352844238\n"
     ]
    },
    {
     "data": {
      "application/vnd.jupyter.widget-view+json": {
       "model_id": "ae231114501b448b9f061f55d8ac1de1",
       "version_major": 2,
       "version_minor": 0
      },
      "text/plain": [
       "  0%|          | 0/30 [00:00<?, ?it/s]"
      ]
     },
     "metadata": {},
     "output_type": "display_data"
    },
    {
     "name": "stdout",
     "output_type": "stream",
     "text": [
      "Completed predicting in : 0.11075282096862793\n"
     ]
    },
    {
     "data": {
      "application/vnd.jupyter.widget-view+json": {
       "model_id": "fd956e041908411b93dc0bac90bef1ef",
       "version_major": 2,
       "version_minor": 0
      },
      "text/plain": [
       "  0%|          | 0/30 [00:00<?, ?it/s]"
      ]
     },
     "metadata": {},
     "output_type": "display_data"
    },
    {
     "name": "stdout",
     "output_type": "stream",
     "text": [
      "Completed predicting in : 0.10257577896118164\n"
     ]
    },
    {
     "data": {
      "application/vnd.jupyter.widget-view+json": {
       "model_id": "c29b223b85994e0b9e23e352aff0d113",
       "version_major": 2,
       "version_minor": 0
      },
      "text/plain": [
       "  0%|          | 0/30 [00:00<?, ?it/s]"
      ]
     },
     "metadata": {},
     "output_type": "display_data"
    },
    {
     "name": "stdout",
     "output_type": "stream",
     "text": [
      "Completed predicting in : 0.11020207405090332\n"
     ]
    },
    {
     "data": {
      "application/vnd.jupyter.widget-view+json": {
       "model_id": "4c9c8f8357f04e39990d13a34b928a8e",
       "version_major": 2,
       "version_minor": 0
      },
      "text/plain": [
       "  0%|          | 0/30 [00:00<?, ?it/s]"
      ]
     },
     "metadata": {},
     "output_type": "display_data"
    },
    {
     "name": "stdout",
     "output_type": "stream",
     "text": [
      "Completed predicting in : 0.11436176300048828\n"
     ]
    },
    {
     "data": {
      "application/vnd.jupyter.widget-view+json": {
       "model_id": "87ce2837868b43e7b5eb7eaa7aa632a6",
       "version_major": 2,
       "version_minor": 0
      },
      "text/plain": [
       "  0%|          | 0/30 [00:00<?, ?it/s]"
      ]
     },
     "metadata": {},
     "output_type": "display_data"
    },
    {
     "name": "stdout",
     "output_type": "stream",
     "text": [
      "Completed predicting in : 0.11585831642150879\n"
     ]
    },
    {
     "data": {
      "application/vnd.jupyter.widget-view+json": {
       "model_id": "9bb9b1230a1b4bf6aa515b9b55b82122",
       "version_major": 2,
       "version_minor": 0
      },
      "text/plain": [
       "  0%|          | 0/30 [00:00<?, ?it/s]"
      ]
     },
     "metadata": {},
     "output_type": "display_data"
    },
    {
     "name": "stdout",
     "output_type": "stream",
     "text": [
      "Completed predicting in : 0.10863947868347168\n"
     ]
    }
   ],
   "source": [
    "k_values = []\n",
    "acc = []\n",
    "\n",
    "for k in range(3, 20, 2):\n",
    "    knn_clf = KNN(k)\n",
    "    knn_clf.fit(X_tr_i, y_tr_i)\n",
    "    preds = knn_clf.predict(X_te_i)\n",
    "    score = accuracy_score(y_te_i, preds)\n",
    "    k_values.append(k)\n",
    "    acc.append(score)"
   ]
  },
  {
   "cell_type": "code",
   "execution_count": 41,
   "id": "fb900341-89d0-41be-b93b-61490806d535",
   "metadata": {},
   "outputs": [
    {
     "data": {
      "text/plain": [
       "Text(0, 0.5, 'accuracy')"
      ]
     },
     "execution_count": 41,
     "metadata": {},
     "output_type": "execute_result"
    },
    {
     "data": {
      "image/png": "[encoded data removed]",
      "text/plain": [
       "<Figure size 432x288 with 1 Axes>"
      ]
     },
     "metadata": {
      "needs_background": "light"
     },
     "output_type": "display_data"
    }
   ],
   "source": [
    "plt.plot(k_values, acc, c='r')\n",
    "plt.xlabel('K')\n",
    "plt.ylabel('accuracy')"
   ]
  },
  {
   "cell_type": "code",
   "execution_count": 42,
   "id": "3a59d219-1123-4e8e-90a6-9681dad2ea8f",
   "metadata": {},
   "outputs": [],
   "source": [
    "#  so for any k other than 5 to 10 our algorithm can classifty with 100% accuracy"
   ]
  },
  {
   "cell_type": "code",
   "execution_count": 16,
   "id": "19043770-4b49-484f-a7fb-b0597e117565",
   "metadata": {},
   "outputs": [
    {
     "name": "stdout",
     "output_type": "stream",
     "text": [
      "1.0\n"
     ]
    }
   ],
   "source": [
    "from sklearn.neighbors import KNeighborsClassifier\n",
    "knn = KNeighborsClassifier(3)\n",
    "knn.fit(X_tr_i, y_tr_i)\n",
    "preds = knn.predict(X_te_i)\n",
    "print(accuracy_score(y_te_i, preds))\n",
    "# sklearn accuracy same as ours...."
   ]
  },
  {
   "cell_type": "code",
   "execution_count": 17,
   "id": "8824920f-25c2-47b3-8857-bb1f6741e7af",
   "metadata": {},
   "outputs": [
    {
     "name": "stdout",
     "output_type": "stream",
     "text": [
      "Intial data shape:  (442, 10) (442,)\n",
      "Train test size: (331, 10) (111, 10)\n"
     ]
    }
   ],
   "source": [
    "#  Regression using knn\n",
    "\n",
    "from sklearn.datasets import load_diabetes\n",
    "X_d, y_d = load_diabetes(return_X_y=True)\n",
    "print(\"Intial data shape: \",X_d.shape, y_d.shape)\n",
    "\n",
    "X_tr_d, X_te_d, y_tr_d, y_te_d = train_test_split(X_d, y_d, test_size=0.25, random_state=42)\n",
    "print('Train test size:', X_tr_d.shape, X_te_d.shape)"
   ]
  },
  {
   "cell_type": "code",
   "execution_count": 18,
   "id": "e961f0d0-427a-4e17-a2cd-da7fb0d20c3d",
   "metadata": {
    "collapsed": true,
    "jupyter": {
     "outputs_hidden": true
    },
    "tags": []
   },
   "outputs": [
    {
     "data": {
      "text/plain": [
       "array([151.,  75., 141., 206., 135.,  97., 138.,  63., 110., 310., 101.,\n",
       "        69., 179., 185., 118., 171., 166., 144.,  97., 168.,  68.,  49.,\n",
       "        68., 245., 184., 202., 137.,  85., 131., 283., 129.,  59., 341.,\n",
       "        87.,  65., 102., 265., 276., 252.,  90., 100.,  55.,  61.,  92.,\n",
       "       259.,  53., 190., 142.,  75., 142., 155., 225.,  59., 104., 182.,\n",
       "       128.,  52.,  37., 170., 170.,  61., 144.,  52., 128.,  71., 163.,\n",
       "       150.,  97., 160., 178.,  48., 270., 202., 111.,  85.,  42., 170.,\n",
       "       200., 252., 113., 143.,  51.,  52., 210.,  65., 141.,  55., 134.,\n",
       "        42., 111.,  98., 164.,  48.,  96.,  90., 162., 150., 279.,  92.,\n",
       "        83., 128., 102., 302., 198.,  95.,  53., 134., 144., 232.,  81.,\n",
       "       104.,  59., 246., 297., 258., 229., 275., 281., 179., 200., 200.,\n",
       "       173., 180.,  84., 121., 161.,  99., 109., 115., 268., 274., 158.,\n",
       "       107.,  83., 103., 272.,  85., 280., 336., 281., 118., 317., 235.,\n",
       "        60., 174., 259., 178., 128.,  96., 126., 288.,  88., 292.,  71.,\n",
       "       197., 186.,  25.,  84.,  96., 195.,  53., 217., 172., 131., 214.,\n",
       "        59.,  70., 220., 268., 152.,  47.,  74., 295., 101., 151., 127.,\n",
       "       237., 225.,  81., 151., 107.,  64., 138., 185., 265., 101., 137.,\n",
       "       143., 141.,  79., 292., 178.,  91., 116.,  86., 122.,  72., 129.,\n",
       "       142.,  90., 158.,  39., 196., 222., 277.,  99., 196., 202., 155.,\n",
       "        77., 191.,  70.,  73.,  49.,  65., 263., 248., 296., 214., 185.,\n",
       "        78.,  93., 252., 150.,  77., 208.,  77., 108., 160.,  53., 220.,\n",
       "       154., 259.,  90., 246., 124.,  67.,  72., 257., 262., 275., 177.,\n",
       "        71.,  47., 187., 125.,  78.,  51., 258., 215., 303., 243.,  91.,\n",
       "       150., 310., 153., 346.,  63.,  89.,  50.,  39., 103., 308., 116.,\n",
       "       145.,  74.,  45., 115., 264.,  87., 202., 127., 182., 241.,  66.,\n",
       "        94., 283.,  64., 102., 200., 265.,  94., 230., 181., 156., 233.,\n",
       "        60., 219.,  80.,  68., 332., 248.,  84., 200.,  55.,  85.,  89.,\n",
       "        31., 129.,  83., 275.,  65., 198., 236., 253., 124.,  44., 172.,\n",
       "       114., 142., 109., 180., 144., 163., 147.,  97., 220., 190., 109.,\n",
       "       191., 122., 230., 242., 248., 249., 192., 131., 237.,  78., 135.,\n",
       "       244., 199., 270., 164.,  72.,  96., 306.,  91., 214.,  95., 216.,\n",
       "       263., 178., 113., 200., 139., 139.,  88., 148.,  88., 243.,  71.,\n",
       "        77., 109., 272.,  60.,  54., 221.,  90., 311., 281., 182., 321.,\n",
       "        58., 262., 206., 233., 242., 123., 167.,  63., 197.,  71., 168.,\n",
       "       140., 217., 121., 235., 245.,  40.,  52., 104., 132.,  88.,  69.,\n",
       "       219.,  72., 201., 110.,  51., 277.,  63., 118.,  69., 273., 258.,\n",
       "        43., 198., 242., 232., 175.,  93., 168., 275., 293., 281.,  72.,\n",
       "       140., 189., 181., 209., 136., 261., 113., 131., 174., 257.,  55.,\n",
       "        84.,  42., 146., 212., 233.,  91., 111., 152., 120.,  67., 310.,\n",
       "        94., 183.,  66., 173.,  72.,  49.,  64.,  48., 178., 104., 132.,\n",
       "       220.,  57.])"
      ]
     },
     "execution_count": 18,
     "metadata": {},
     "output_type": "execute_result"
    }
   ],
   "source": [
    "y_d"
   ]
  },
  {
   "cell_type": "code",
   "execution_count": 19,
   "id": "d7354543-87d1-4310-9e5e-eca5d7de7392",
   "metadata": {},
   "outputs": [
    {
     "name": "stdout",
     "output_type": "stream",
     "text": [
      "Completed predicting in : 3.2344510555267334\n"
     ]
    },
    {
     "data": {
      "text/plain": [
       "55.31877155619498"
      ]
     },
     "execution_count": 19,
     "metadata": {},
     "output_type": "execute_result"
    }
   ],
   "source": [
    "from sklearn.metrics import mean_squared_error  as mse\n",
    "knn_reg = KNN(5, reg=True)\n",
    "knn_reg.fit(X_tr_d, y_tr_d)\n",
    "d_preds = knn_reg.predict(X_te_d)\n",
    "mse(y_te_d, d_preds, squared=False)"
   ]
  },
  {
   "cell_type": "code",
   "execution_count": 20,
   "id": "54a5898e-31c3-4048-a21d-f1aa2f9bce79",
   "metadata": {},
   "outputs": [
    {
     "data": {
      "text/plain": [
       "55.31877155619498"
      ]
     },
     "execution_count": 20,
     "metadata": {},
     "output_type": "execute_result"
    }
   ],
   "source": [
    "from sklearn.neighbors import KNeighborsRegressor\n",
    "k_reg = KNeighborsRegressor(5)\n",
    "k_reg.fit(X_tr_d, y_tr_d)\n",
    "d_preds = k_reg.predict(X_te_d)\n",
    "mse(y_te_d, d_preds, squared=False)"
   ]
  },
  {
   "cell_type": "code",
   "execution_count": 21,
   "id": "206d6162-779a-40d8-bc71-df77b59fd4b1",
   "metadata": {},
   "outputs": [
    {
     "name": "stdout",
     "output_type": "stream",
     "text": [
      "Completed predicting in : 3.401721477508545\n",
      "Completed predicting in : 3.2569003105163574\n",
      "Completed predicting in : 3.3725087642669678\n",
      "Completed predicting in : 3.3912620544433594\n",
      "Completed predicting in : 3.1625871658325195\n",
      "Completed predicting in : 2.854405403137207\n",
      "Completed predicting in : 3.1077826023101807\n",
      "Completed predicting in : 2.946969985961914\n",
      "Completed predicting in : 2.784130334854126\n",
      "Completed predicting in : 3.1610753536224365\n",
      "Completed predicting in : 3.406874418258667\n",
      "Completed predicting in : 3.4940130710601807\n",
      "Completed predicting in : 3.2258236408233643\n",
      "Completed predicting in : 3.404599189758301\n",
      "Completed predicting in : 3.0759897232055664\n",
      "Completed predicting in : 3.0347278118133545\n"
     ]
    },
    {
     "data": {
      "text/plain": [
       "Text(0, 0.5, 'RMSE')"
      ]
     },
     "execution_count": 21,
     "metadata": {},
     "output_type": "execute_result"
    },
    {
     "data": {
      "image/png": "[encoded data removed]",
      "text/plain": [
       "<Figure size 432x288 with 1 Axes>"
      ]
     },
     "metadata": {
      "needs_background": "light"
     },
     "output_type": "display_data"
    }
   ],
   "source": [
    "k_values = []\n",
    "acc = []\n",
    "\n",
    "for k in range(3, 35, 2):\n",
    "    knn_clf = KNN(k, reg=True)\n",
    "    knn_clf.fit(X_tr_d, y_tr_d)\n",
    "    preds = knn_clf.predict(X_te_d)\n",
    "    score = mse(y_te_d, preds, squared=False)\n",
    "    k_values.append(k)\n",
    "    acc.append(score)\n",
    "    \n",
    "plt.plot(k_values, acc, c='b')\n",
    "plt.xlabel('K')\n",
    "plt.ylabel('RMSE')"
   ]
  },
  {
   "cell_type": "code",
   "execution_count": 22,
   "id": "ed64c5e5-32b4-4953-83fc-bd1bca267c40",
   "metadata": {},
   "outputs": [
    {
     "data": {
      "text/plain": [
       "154.34441087613294"
      ]
     },
     "execution_count": 22,
     "metadata": {},
     "output_type": "execute_result"
    }
   ],
   "source": [
    "np.mean(y_tr_d)"
   ]
  },
  {
   "cell_type": "code",
   "execution_count": 23,
   "id": "9c3add2b-6731-48c5-90f3-765520839b1c",
   "metadata": {},
   "outputs": [
    {
     "name": "stdout",
     "output_type": "stream",
     "text": [
      "Completed predicting in : 3.4091451168060303\n"
     ]
    },
    {
     "data": {
      "text/plain": [
       "54.25125211325408"
      ]
     },
     "execution_count": 23,
     "metadata": {},
     "output_type": "execute_result"
    }
   ],
   "source": [
    "knn_reg = KNN(20, reg=True)\n",
    "knn_reg.fit(X_tr_d, y_tr_d)\n",
    "d_preds = knn_reg.predict(X_te_d)\n",
    "mse(y_te_d, d_preds, squared=False)"
   ]
  },
  {
   "cell_type": "code",
   "execution_count": null,
   "id": "1a84a129-08f9-4db1-8a80-696f59f07b19",
   "metadata": {},
   "outputs": [],
   "source": []
  }
 ],
 "metadata": {
  "kernelspec": {
   "display_name": "Python 3 (ipykernel)",
   "language": "python",
   "name": "python3"
  },
  "language_info": {
   "codemirror_mode": {
    "name": "ipython",
    "version": 3
   },
   "file_extension": ".py",
   "mimetype": "text/x-python",
   "name": "python",
   "nbconvert_exporter": "python",
   "pygments_lexer": "ipython3",
   "version": "3.9.5"
  },
  "toc-autonumbering": false,
  "toc-showcode": false,
  "toc-showmarkdowntxt": true,
  "toc-showtags": false
 },
 "nbformat": 4,
 "nbformat_minor": 5
}
