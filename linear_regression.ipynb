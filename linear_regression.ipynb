{
 "cells": [
  {
   "cell_type": "markdown",
   "id": "f39d7183-a905-48c5-8921-ab9f61376b87",
   "metadata": {},
   "source": [
    "``Naive Linear Regression``"
   ]
  },
  {
   "cell_type": "code",
   "execution_count": 1,
   "id": "990c7a03-d1fe-48e4-9221-1c797803b2dd",
   "metadata": {},
   "outputs": [],
   "source": [
    "import numpy as np\n",
    "import matplotlib.pyplot as plt\n",
    "import scipy\n",
    "import seaborn as sns\n",
    "from sklearn.datasets import make_regression\n",
    "from sklearn.model_selection import train_test_split\n",
    "import autograd\n",
    "\n",
    "RAND = 12345\n",
    "np.random.seed(RAND)"
   ]
  },
  {
   "cell_type": "raw",
   "id": "921b4b27-53dc-4632-9170-6267d153fc1a",
   "metadata": {},
   "source": [
    "#  let's do a navie implementation that i think\n",
    "\n",
    "Algorithm:\n",
    "\n",
    "- get the input data and target\n",
    "- Assign random weights \n",
    "- calculate error (rmse)\n",
    "- calculate gradients w.r.t weights\n",
    "- update weights with learning rate\n",
    "- repeat this untill iterations limit or no improvement in weights "
   ]
  },
  {
   "cell_type": "code",
   "execution_count": 2,
   "id": "78c05c70-a343-47f7-a25c-f7fe26b36fc2",
   "metadata": {},
   "outputs": [
    {
     "data": {
      "text/plain": [
       "<AxesSubplot:ylabel='Density'>"
      ]
     },
     "execution_count": 2,
     "metadata": {},
     "output_type": "execute_result"
    },
    {
     "data": {
      "image/png": "[encoded data removed]",
      "text/plain": [
       "<Figure size 432x288 with 1 Axes>"
      ]
     },
     "metadata": {
      "needs_background": "light"
     },
     "output_type": "display_data"
    }
   ],
   "source": [
    "# let's prepare the dataset\n",
    "X, y = make_regression(n_samples=200, noise=15, n_features=1, random_state=RAND)\n",
    "sns.kdeplot(X[:,0])                  # check if guassain looking"
   ]
  },
  {
   "cell_type": "code",
   "execution_count": 3,
   "id": "b2a1c794-95fa-4eaa-bdbc-3fd9560a3442",
   "metadata": {},
   "outputs": [
    {
     "name": "stdout",
     "output_type": "stream",
     "text": [
      "(200, 1) (200,)\n"
     ]
    }
   ],
   "source": [
    "print(X.shape, y.shape)\n",
    "\n",
    "#  simple train test split to evaluate model\n",
    "X_train, X_test  = X[:150], X[150:]\n",
    "y_train, y_test = y[:150], y[150:]"
   ]
  },
  {
   "cell_type": "code",
   "execution_count": 4,
   "id": "575c2364",
   "metadata": {},
   "outputs": [],
   "source": [
    "def rmse(targets, preds):\n",
    "    \n",
    "    targets = np.array(targets)\n",
    "    preds = np.array(preds)\n",
    "    \n",
    "    sq_error = np.power(targets-preds, 2)\n",
    "    mse = np.mean(sq_error)\n",
    "    \n",
    "    return np.sqrt(mse)"
   ]
  },
  {
   "cell_type": "code",
   "execution_count": 5,
   "id": "6e955659-6e5f-415c-ad86-96f432787a44",
   "metadata": {},
   "outputs": [],
   "source": [
    "\n",
    "class My_LinearRegression:\n",
    "    \n",
    "    def __init__(self, lr=0.1, n_iters=1000):\n",
    "        self.lr = lr\n",
    "        self.n_iters = n_iters\n",
    "        self.wts = None\n",
    "        self.bias = None\n",
    "        self.is_fit = False\n",
    "        \n",
    "    def fit(self, X, y):\n",
    "        n_samples, n_fts = X.shape\n",
    "        train_loss = []\n",
    "        # randomly initialize wts and bias\n",
    "        self.wts = np.random.rand(n_fts)\n",
    "        self.bias = np.random.rand(1)\n",
    "        \n",
    "        for _ in range(self.n_iters):\n",
    "            y_pred = np.dot(X, self.wts) + self.bias  # returns pred for every sample\n",
    "            loss = rmse(y_pred, y)\n",
    "            train_loss.append(loss)\n",
    "            \n",
    "            # find grads of loss(mse) w.r.t wts and bias\n",
    "            dw = (1/n_samples)  *  np.dot((y_pred - y), X)\n",
    "            db = (1/n_samples) * np.sum(y_pred - y)\n",
    "            \n",
    "            # update wts \n",
    "            self.wts -= dw*self.lr\n",
    "            self.bias -= db*self.lr\n",
    "                  \n",
    "        self.is_fit = True\n",
    "            \n",
    "\n",
    "    def predict(self, X):\n",
    "        if self.is_fit:\n",
    "            preds = np.dot(X, self.wts) + self.bias\n",
    "            return preds\n",
    "        else:\n",
    "            raise Exception('You have to train the model first')"
   ]
  },
  {
   "cell_type": "code",
   "execution_count": 6,
   "id": "a7f372c9-eb85-42da-8f43-0da919cd9f41",
   "metadata": {},
   "outputs": [],
   "source": [
    "my_reg = My_LinearRegression(0.1)\n",
    "my_reg.fit(X_train, y_train)"
   ]
  },
  {
   "cell_type": "code",
   "execution_count": 7,
   "id": "6639ae2b-bd1b-4d2d-84a0-8eb5c7ed768e",
   "metadata": {},
   "outputs": [
    {
     "data": {
      "text/plain": [
       "array([34.2410762])"
      ]
     },
     "execution_count": 7,
     "metadata": {},
     "output_type": "execute_result"
    }
   ],
   "source": [
    "my_reg.wts"
   ]
  },
  {
   "cell_type": "code",
   "execution_count": 8,
   "id": "6040b617-acc3-44f1-9119-7537969dca9b",
   "metadata": {},
   "outputs": [
    {
     "data": {
      "text/plain": [
       "14.222531428703789"
      ]
     },
     "execution_count": 8,
     "metadata": {},
     "output_type": "execute_result"
    }
   ],
   "source": [
    "my_preds = my_reg.predict(X_test)\n",
    "rmse(y_test, my_preds)"
   ]
  },
  {
   "cell_type": "code",
   "execution_count": 9,
   "id": "15f65993-b004-45a2-b6b7-b009292c071f",
   "metadata": {},
   "outputs": [
    {
     "data": {
      "text/plain": [
       "array([ 9.07213257e+00, -4.79629284e+01,  4.39209715e+01, -7.84654899e+01,\n",
       "        5.66176808e+00,  2.44749658e+01,  1.68334933e+01,  2.83988823e+01,\n",
       "        3.47278833e+01,  2.96403986e+01,  2.21945850e+01, -8.04752639e+00,\n",
       "        4.58785298e+01,  2.78039356e-02,  4.97468214e+01,  4.67592864e+01,\n",
       "       -6.81042577e+01, -2.19072774e+01, -9.47663878e+00,  1.75131153e+01,\n",
       "       -3.56358515e+00,  5.75831807e+01,  1.53341439e+01, -1.48381322e-01,\n",
       "       -5.31101773e+01, -1.97507349e+01,  2.82661095e+00,  4.66505839e+01,\n",
       "       -3.45339716e+01,  6.29196491e+01, -1.85948458e+01,  4.64474515e+01,\n",
       "       -5.70153857e+01,  4.51774476e+01, -2.80256337e+01, -3.70478662e-01,\n",
       "        1.83684772e+01,  9.84996740e+00,  7.98366541e+00, -8.07755196e-01,\n",
       "        4.22065083e+01, -7.67042443e+01,  4.24610095e+01,  1.18322204e+01,\n",
       "        1.61143213e+01,  1.67664380e+01,  4.53696763e+00, -1.67922958e+01,\n",
       "       -9.88459997e+00, -1.38467763e+01])"
      ]
     },
     "execution_count": 9,
     "metadata": {},
     "output_type": "execute_result"
    }
   ],
   "source": [
    "my_preds"
   ]
  },
  {
   "cell_type": "code",
   "execution_count": 10,
   "id": "53800e18-4b66-43f7-9d72-4c1779ae91fd",
   "metadata": {},
   "outputs": [
    {
     "data": {
      "text/plain": [
       "14.22253142870379"
      ]
     },
     "execution_count": 10,
     "metadata": {},
     "output_type": "execute_result"
    }
   ],
   "source": [
    "from sklearn.linear_model import LinearRegression as LR\n",
    "\n",
    "lr = LR()\n",
    "lr.fit(X_train, y_train)\n",
    "sk_preds = lr.predict(X_test)\n",
    "rmse(y_test, sk_preds)"
   ]
  },
  {
   "cell_type": "code",
   "execution_count": 11,
   "id": "adb4dd11-5b39-4773-abad-5da70880cdb9",
   "metadata": {},
   "outputs": [
    {
     "data": {
      "text/plain": [
       "array([34.2410762])"
      ]
     },
     "execution_count": 11,
     "metadata": {},
     "output_type": "execute_result"
    }
   ],
   "source": [
    "lr.coef_"
   ]
  },
  {
   "cell_type": "code",
   "execution_count": 20,
   "id": "d864594b-fb51-4abc-85cb-697ddfe125c1",
   "metadata": {},
   "outputs": [
    {
     "data": {
      "image/png": "[encoded data removed]",
      "text/plain": [
       "<Figure size 432x288 with 1 Axes>"
      ]
     },
     "metadata": {
      "needs_background": "light"
     },
     "output_type": "display_data"
    }
   ],
   "source": [
    "plt.scatter(X_test[:, 0], y_test)\n",
    "plt.plot(X_test[:, 0], sk_preds, c='g', label='sklearn_preds')\n",
    "plt.plot(X_test[:, 0], my_preds, c='r', alpha=0.5, label= 'my_preds')\n",
    "plt.xlabel('feature-1')\n",
    "plt.ylabel('Target')\n",
    "plt.legend();"
   ]
  },
  {
   "cell_type": "code",
   "execution_count": null,
   "id": "6c874ddf",
   "metadata": {},
   "outputs": [],
   "source": []
  }
 ],
 "metadata": {
  "kernelspec": {
   "display_name": "Python 3.10.5 64-bit",
   "language": "python",
   "name": "python3"
  },
  "language_info": {
   "codemirror_mode": {
    "name": "ipython",
    "version": 3
   },
   "file_extension": ".py",
   "mimetype": "text/x-python",
   "name": "python",
   "nbconvert_exporter": "python",
   "pygments_lexer": "ipython3",
   "version": "3.10.5"
  },
  "vscode": {
   "interpreter": {
    "hash": "186db977f413ae6598820b658aed1651932768522d0652c07d949b3f5fb38b63"
   }
  }
 },
 "nbformat": 4,
 "nbformat_minor": 5
}
